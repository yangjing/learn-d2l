{
 "cells": [
  {
   "cell_type": "markdown",
   "metadata": {},
   "source": [
    "# 3.6.5. Exercises\n"
   ]
  },
  {
   "cell_type": "markdown",
   "metadata": {},
   "source": [
    "##### 1. When can you solve the problem of polynomial regression exactly?\n",
    "\n",
    "**你什么时候可以精确地解决多项式回归的问题？**\n"
   ]
  },
  {
   "cell_type": "markdown",
   "metadata": {},
   "source": [
    "答：多项式模型可以表示为：\n",
    "\n",
    "$$\\hat{y} = \\sum_{i=0}^d x^iw_i$$\n",
    "\n",
    "线性函数是：\n",
    "\n",
    "$$\n",
    "\\begin{bmatrix}\n",
    "x_1^0 & x_1^1 & ... & x_1^d \\\\\n",
    "x_2^0 & x_2^1 & ... & x_2^d \\\\\n",
    " &  & ... &  \\\\\n",
    "x_n^0 & x_n^1 & ... & x_n^d\n",
    "\\end{bmatrix} \\begin{bmatrix}\n",
    "w_0 \\\\ w_1 \\\\ ... \\\\ w_d \\end{bmatrix} = \\begin{bmatrix}\n",
    "y_1 \\\\ y_2 \\\\ ... \\\\ y_n \\end{bmatrix}\n",
    "$$\n",
    "\n",
    "这是 $X\\vec{w}=\\vec{y}$ 的形式。估计的多项式回归系数的向量（使用普通最小二乘估计）是：\n",
    "\n",
    "$$\\vec{w} = (X^TX)^{-1}X^T\\vec{y}$$\n",
    "\n",
    "矩阵可逆的条件是 $n > d$ 。\n"
   ]
  },
  {
   "cell_type": "markdown",
   "metadata": {},
   "source": [
    "##### 2. Give at least five examples where dependent random variables make treating the problem as IID data inadvisable.\n",
    "\n",
    "**给出至少五个例子，说明依赖随机变量使得将问题视为独立同分布（IID）数据不明智。**\n",
    "\n",
    "请参阅 <https://pandalab.me/archives/generalization>\n"
   ]
  },
  {
   "cell_type": "markdown",
   "metadata": {},
   "source": [
    "##### 3. Can you ever expect to see zero training error? Under which circumstances would you see zero generalization error?\n",
    "\n",
    "**你能期待看到零训练误差吗？在什么情况下你会看到零泛化误差？**\n"
   ]
  },
  {
   "cell_type": "markdown",
   "metadata": {},
   "source": [
    "答：由于观察数据包含噪声，正确的模型估计不应得到零训练误差。如果得到零训练误差，这意味着模型过拟合，模型捕捉到了数据中的噪声。如果泛化误差为零，很可能测试集中的示例已经出现在训练集中。\n"
   ]
  },
  {
   "cell_type": "markdown",
   "metadata": {},
   "source": [
    "##### 4. Why is k-fold cross-validation very expensive to compute?\n",
    "\n",
    "**为什么 k 折交叉验证计算成本非常高？**\n"
   ]
  },
  {
   "cell_type": "markdown",
   "metadata": {},
   "source": [
    "答：k 折交叉验证涉及将数据集划分为 k 个子集（或折），在 k−1 个折上训练模型，然后在剩余的折上评估其性能。它用于选择模型或调整超参数。\n",
    "\n",
    "因此，每个模型或每组超参数需要进行 k 次训练。当搜索空间很大时，这种方式计算成本非常高。\n"
   ]
  },
  {
   "cell_type": "markdown",
   "metadata": {},
   "source": [
    "##### 5. Why is the k-fold cross-validation error estimate biased?\n",
    "\n",
    "**为什么 k 折交叉验证的误差估计是有偏的？**\n"
   ]
  },
  {
   "cell_type": "markdown",
   "metadata": {},
   "source": [
    "答：由于数据集大小有限，k 的值不会很大。因此，k 次验证无法保证所选择的最佳超参数是整个数据集的最佳超参数。它只是对交叉验证中特定数据划分效果最好的超参数。\n"
   ]
  },
  {
   "cell_type": "markdown",
   "metadata": {},
   "source": [
    "##### 6. The VC dimension is defined as the maximum number of points that can be classified with arbitrary labels ${\\pm 1}$ by a function of a class of functions. Why might this not be a good idea for measuring how complex the class of functions is? Hint: consider the magnitude of the functions.\n",
    "\n",
    "VC 维度定义为可以被一个函数类的函数以任意标签 ${\\pm 1}$ 分类的最大点数。为什么这可能不是衡量函数类复杂性的好方法？提示：考虑函数的大小。\n"
   ]
  },
  {
   "cell_type": "markdown",
   "metadata": {},
   "source": [
    "答：函数光滑性：VC 维度并不区分光滑和非光滑函数。一类具有高 VC 维度的阶梯函数在打碎点方面可能更复杂，但由于其固有的不连续性，它们可能无法很好地泛化。\n",
    "\n",
    "参考 <https://pandalab.me/archives/generalization>\n"
   ]
  },
  {
   "cell_type": "markdown",
   "metadata": {},
   "source": [
    "##### 7. Your manager gives you a difficult dataset on which your current algorithm does not perform so well. How would you justify to him that you need more data? Hint: you cannot increase the data but you can decrease it.\n",
    "\n",
    "**您的经理给了您一个困难的数据集，而您当前的算法在这个数据集上的表现并不好。您将如何向他证明您需要更多的数据？提示：您不能增加数据，但可以减少数据。**\n",
    "\n",
    "参考 <https://pandalab.me/archives/generalization>\n"
   ]
  }
 ],
 "metadata": {
  "language_info": {
   "name": "python"
  }
 },
 "nbformat": 4,
 "nbformat_minor": 2
}
