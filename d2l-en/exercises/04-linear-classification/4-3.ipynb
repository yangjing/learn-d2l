{
 "cells": [
  {
   "cell_type": "markdown",
   "metadata": {},
   "source": [
    "# 4.3.4. Exercises\n"
   ]
  },
  {
   "cell_type": "markdown",
   "metadata": {},
   "source": [
    "##### 1. Denote by $L_\\textrm{v}$ the validation loss, and let $L_\\textrm{v}^\\textrm{q}$ be its quick and dirty estimate computed by the loss function averaging in this section. Lastly, denote by $l_\\textrm{v}^\\textrm{b}$ the loss on the last minibatch. Express $L_\\textrm{v}$ in terms of $L_\\textrm{v}^\\textrm{q}$, $l_\\textrm{v}^\\textrm{b}$, and the sample and minibatch sizes.\n",
    "\n",
    "**用 $L_\\textrm{v}$ 表示验证损失，令 $L_\\textrm{v}^\\textrm{q}$ 为本节中通过损失函数平均计算的粗略估计。最后，用 $l_\\textrm{v}^\\textrm{b}$ 表示最后一个小批量的损失。用 $L_\\textrm{v}$ 表示 $L_\\textrm{v}^\\textrm{q}$、 $l_\\textrm{v}^\\textrm{b}$ 以及样本和小批量大小。**\n"
   ]
  },
  {
   "cell_type": "markdown",
   "metadata": {},
   "source": [
    "答：我们假设有 N 个样本，批量大小为 B。由于 N 可能无法被 B 整除，最后一个批次可能包含少于 B 个样本：\n",
    "\n",
    "$$N = MB + b, B - b = c$$\n",
    "\n",
    "我们假设有 M 个批次，每个批次包含 B 个示例，最后一个批次包含 b 个示例。\n",
    "\n",
    "快速估算是：\n",
    "\n",
    "$$L_v^q = \\frac{\\sum_{i=1}^M (l_v^i) + l_v^b}{M + 1}$$\n",
    "\n",
    "实际平均损失为：\n",
    "\n",
    "$$L_v = \\frac{\\sum_{i=1}^M (B * l_v^i) + b * l_v^b}{N}= \\frac{B \\sum_{i=1}^M (l_v^i) + b * l_v^b}{MB + b}$$\n",
    "\n",
    "则：\n",
    "\n",
    "$$L_v = L_v^q (1 + \\frac{c}{N}) - l_v^b \\frac{c}{N}$$\n"
   ]
  },
  {
   "cell_type": "markdown",
   "metadata": {},
   "source": [
    "##### 2. Show that the quick and dirty estimate $L_v^q$ is unbiased. That is, show that $E[L_v]=E[L_v^q]$. Why would you still want to use $L_v$ instead?\n",
    "\n",
    "**证明快速粗略估计 $L_v^q$ 是无偏的。也就是说，证明 $E[L_v]=E[L_v^q]$ 。那么你为什么还想使用 $L_v$ 呢？**\n"
   ]
  },
  {
   "cell_type": "markdown",
   "metadata": {},
   "source": [
    "答：如上所述，c 小于批量大小 b。通常，批量大小 b 远小于 N。因此 $\\frac{c}{N}$ 接近于零。\n",
    "\n",
    "$$E(L_v) = E(L^q_v)$$\n"
   ]
  },
  {
   "cell_type": "markdown",
   "metadata": {},
   "source": [
    "##### 3. Given a multiclass classification loss, denoting by $l(y,y')$ the penalty of estimating $y$ when we see $y$ and given a probabilty $p(y|x)$, formulate the rule for an optimal selection of $y'$. Hint: express the expected loss, using $l$ and $p(y|x)$\n",
    "\n",
    "**给定一个多类分类损失，用 $l(y,y')$ 表示在看到 $y$ 时估计 $y$ 的惩罚，并给定一个概率 $p(y|x)$ ，制定一个最佳选择 $y'$ 的规则。提示：使用 $l$ 和 $p(y|x)$ 表达期望损失。**\n"
   ]
  },
  {
   "cell_type": "markdown",
   "metadata": {},
   "source": [
    "答：\n",
    "\n",
    "$$E(l) = \\sum p(y | x) l(y,y')$$\n",
    "\n",
    "$$y_{opt}'=\\arg \\min_{y'} (E(l))$$\n"
   ]
  }
 ],
 "metadata": {
  "language_info": {
   "name": "python"
  }
 },
 "nbformat": 4,
 "nbformat_minor": 2
}
