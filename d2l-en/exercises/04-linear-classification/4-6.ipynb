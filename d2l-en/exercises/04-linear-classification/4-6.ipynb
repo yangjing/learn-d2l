{
 "cells": [
  {
   "cell_type": "markdown",
   "metadata": {},
   "source": [
    "# 4.6.5. Exercises\n"
   ]
  },
  {
   "cell_type": "markdown",
   "metadata": {},
   "source": [
    "##### 1. If we wish to estimate the error of a fixed model $f$ to within $0.0001$ with probability greater than 99.9%, how many samples do we need?\n",
    "\n",
    "**如果我们希望以超过 99.9%的概率将固定模型 $f$ 的误差估计在 $0.0001$ 之内，我们需要多少个样本？**\n"
   ]
  },
  {
   "cell_type": "markdown",
   "metadata": {},
   "source": [
    "答：使用霍夫丁不等式\n",
    "\n",
    "$$P(\\epsilon_\\mathcal{D}(f) - \\epsilon(f) \\geq t) < \\exp\\left( - 2n t^2 \\right) < 0.001$$\n",
    "\n",
    "当 $t = 0.0001$ 时， $n \\geq 3.45 * 10^8$\n"
   ]
  },
  {
   "cell_type": "code",
   "execution_count": 1,
   "metadata": {},
   "outputs": [
    {
     "data": {
      "text/plain": [
       "345000000.0"
      ]
     },
     "execution_count": 1,
     "metadata": {},
     "output_type": "execute_result"
    }
   ],
   "source": [
    "3.45 * 10**8"
   ]
  },
  {
   "cell_type": "markdown",
   "metadata": {},
   "source": [
    "##### 2. Suppose that somebody else possesses a labeled test set $\\mathcal{D}$ and only makes available the unlabeled inputs (features). Now suppose that you can only access the test set labels by running a model $f$ (with no restrictions placed on the model class) on each of the unlabeled inputs and receiving the corresponding error $\\epsilon_\\mathcal{D}(f)$.,How many models would you need to evaluate before you leak the entire test setand thus could appear to have error $0$, regardless of your true error?\n",
    "\n",
    "**假设其他人拥有一个标记的测试集 $\\mathcal{D}$ ，并且只提供未标记的输入（特征）。现在假设你只能通过在每个未标记的输入上运行一个模型 $f$ （对模型类别没有限制）来访问测试集标签，并接收相应的错误 $\\epsilon_\\mathcal{D}(f)$ 。在你泄露整个测试集之前，你需要评估多少个模型，从而可能显示出错误 $0$ ，而不管你的真实错误是什么？**\n"
   ]
  },
  {
   "cell_type": "markdown",
   "metadata": {},
   "source": [
    "答：以下是对这个问题的分析与解答：\n",
    "\n",
    "###### 一、问题理解\n",
    "\n",
    "我们面对的情况是，有一个已标记的测试集$\\mathcal{D}$，但我们只能通过向其输入未标记的数据，运行模型$f$后获取对应的错误$\\epsilon_{\\mathcal{D}}(f)$来间接了解测试集相关信息。目标是探究在可能泄露整个测试集（也就是能使得到的错误显示为$0$，而不管实际真实错误情况如何）之前，需要评估多少个模型。\n",
    "\n",
    "###### 二、关键思路\n",
    "\n",
    "要使得最终显示出错误为$0$，意味着模型能够完美拟合测试集中的所有样本，这类似于通过不断尝试不同模型去“记忆”测试集的标签情况。\n",
    "\n",
    "假设测试集$\\mathcal{D}$中有$n$个样本。对于每个样本，模型输出的预测结果只有正确（与标记一致）或者错误（与标记不一致）两种情况。\n",
    "\n",
    "###### 三、模型数量计算\n",
    "\n",
    "考虑一个极端情况，我们要通过穷举所有可能的预测结果组合来确保能达到错误为$0$的情况（也就是完全拟合测试集）。\n",
    "\n",
    "对于一个二分类问题（预测正确或错误），每个样本有$2$种可能情况，那么对于$n$个样本，总共就有$2^n$种不同的预测结果组合。这意味着理论上我们最多需要尝试$2^n$个不同的模型，就可以覆盖所有可能的预测输出情况，从而必然能找到一个模型（或者一组模型中的某一个），其在这个测试集上的错误$\\epsilon_{\\mathcal{D}}(f)=0$，而不管真实的模型错误率原本是多少（即不管模型在其他未见过的数据上的实际表现如何）。\n",
    "\n",
    "所以，在可能泄露整个测试集之前（也就是找到那个在测试集上错误为$0$的模型之前），最多需要评估$2^n$个模型，这里$n$是测试集中样本的数量。\n",
    "\n",
    "例如，如果测试集中有$5$个样本，那么最多需要评估$2^5 = 32$个模型，就有可能出现错误为$0$的情况，进而相当于“泄露”了整个测试集的标签信息。\n",
    "\n",
    "综上所述，需要评估$2^n$个模型，$n$为测试集中样本的数量。\n"
   ]
  },
  {
   "cell_type": "markdown",
   "metadata": {},
   "source": [
    "##### 3. What is the VC dimension of the class of fifth-order polynomials?\n",
    "\n",
    "**五阶多项式类的 VC 维度是多少？**\n"
   ]
  },
  {
   "cell_type": "markdown",
   "metadata": {},
   "source": [
    "答：\n",
    "\n",
    "1. **VC 维度的定义回顾**\n",
    "   - VC 维度（Vapnik - Chervonenkis Dimension）是衡量一个函数族（例如机器学习中的模型类别）的复杂度的一种方式。它表示的是一个函数族能够打散（shatter）的最大点数。所谓打散，是指对于给定的$n$个点的集合，函数族能够实现所有可能的$2^n$种标记（labeling）。\n",
    "2. **五阶多项式函数类的分析**\n",
    "   - 对于一个$d$阶多项式$y = a_0 + a_1x+a_2x^2+\\cdots+a_dx^d$，它可以在$d + 1$个不同的点上实现任意的标记。\n",
    "   - 对于五阶多项式$y=a_0 + a_1x+a_2x^2+a_3x^3+a_4x^4+a_5x^5$，它的系数有$6$个（$a_0,a_1,a_2,a_3,a_4,a_5$）。\n",
    "   - 根据线性代数中的知识，给定$6$个点$(x_1,y_1),(x_2,y_2),\\cdots,(x_6,y_6)$，可以通过求解一个线性方程组来确定唯一的一组系数$a_0,a_1,a_2,a_3,a_4,a_5$，使得多项式函数通过这$6$个点。\n",
    "   - 这意味着五阶多项式可以打散$6$个点，即可以实现这$6$个点的所有$2^6 = 64$种标记。\n",
    "   - 但是，它不能打散$7$个点。可以通过数学归纳法或者维度的理论来证明。直观地理解，五阶多项式的系数个数限制了它所能拟合的自由度，最多可以完全确定$6$个点的任意标记，对于更多的点则无法保证能够实现所有可能的标记。\n",
    "3. **结论**\n",
    "   - 所以，五阶多项式类的 VC 维度是$6$。\n"
   ]
  },
  {
   "cell_type": "markdown",
   "metadata": {},
   "source": [
    "##### 4. What is the VC dimension of axis-aligned rectangles on two-dimensional data?\n",
    "\n",
    "**在二维数据中，轴对齐矩形的 VC 维度是多少？**\n"
   ]
  },
  {
   "cell_type": "markdown",
   "metadata": {},
   "source": [
    "答：\n",
    "\n",
    "1. **轴对齐矩形在二维数据中的分析**\n",
    "   - **四点情况**\n",
    "     - 考虑二维平面上的 4 个点。可以将这 4 个点放置成一个矩形的 4 个顶点的形状。通过轴对齐矩形，我们可以实现所有$2^4 = 16$种可能的标记情况。例如，对于任意一种标记（如将某个顶点标记为正类，其余为负类），都可以找到一个轴对齐矩形将正类的点包含在内，而排除负类的点。\n",
    "   - **五点情况**\n",
    "     - 当考虑 5 个点时，存在一种情况使得轴对齐矩形无法实现所有可能的标记。例如，将 5 个点放置成一个“X”形，其中中间的点被其余 4 个点包围。此时，无论如何放置轴对齐矩形，都无法实现将中间点标记为正类，其余 4 个点标记为负类，同时又能将这 4 个负类点完全排除在矩形之外的情况。\n",
    "2. **结论**\n",
    "   - 所以，在二维数据中，轴对齐矩形的 VC 维度是 4。\n",
    "\n",
    "资料：<https://www.cs.cornell.edu/courses/cs683/2008sp/lecture%20notes/683notes_0428.pdf>\n"
   ]
  }
 ],
 "metadata": {
  "kernelspec": {
   "display_name": "d2l",
   "language": "python",
   "name": "python3"
  },
  "language_info": {
   "codemirror_mode": {
    "name": "ipython",
    "version": 3
   },
   "file_extension": ".py",
   "mimetype": "text/x-python",
   "name": "python",
   "nbconvert_exporter": "python",
   "pygments_lexer": "ipython3",
   "version": "3.9.21"
  }
 },
 "nbformat": 4,
 "nbformat_minor": 2
}
