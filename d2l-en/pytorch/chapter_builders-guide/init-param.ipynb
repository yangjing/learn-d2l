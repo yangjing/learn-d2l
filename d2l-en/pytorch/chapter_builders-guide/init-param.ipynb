{
 "cells": [
  {
   "cell_type": "markdown",
   "id": "289395cc",
   "metadata": {
    "origin_pos": 1
   },
   "source": [
    "# Parameter Initialization\n",
    "\n",
    "Now that we know how to access the parameters,\n",
    "let's look at how to initialize them properly.\n",
    "We discussed the need for proper initialization in :numref:`sec_numerical_stability`.\n",
    "The deep learning framework provides default random initializations to its layers.\n",
    "However, we often want to initialize our weights\n",
    "according to various other protocols. The framework provides most commonly\n",
    "used protocols, and also allows to create a custom initializer.\n"
   ]
  },
  {
   "cell_type": "code",
   "execution_count": 1,
   "id": "9b26b2a9",
   "metadata": {
    "execution": {
     "iopub.execute_input": "2023-08-18T07:05:46.928019Z",
     "iopub.status.busy": "2023-08-18T07:05:46.927747Z",
     "iopub.status.idle": "2023-08-18T07:05:48.584364Z",
     "shell.execute_reply": "2023-08-18T07:05:48.583391Z"
    },
    "origin_pos": 3,
    "tab": [
     "pytorch"
    ]
   },
   "outputs": [],
   "source": [
    "import torch\n",
    "from torch import nn"
   ]
  },
  {
   "cell_type": "markdown",
   "id": "0bbf2b92",
   "metadata": {
    "origin_pos": 7,
    "tab": [
     "pytorch"
    ]
   },
   "source": [
    "By default, PyTorch initializes weight and bias matrices\n",
    "uniformly by drawing from a range that is computed according to the input and output dimension.\n",
    "PyTorch's `nn.init` module provides a variety\n",
    "of preset initialization methods.\n"
   ]
  },
  {
   "cell_type": "code",
   "execution_count": 2,
   "id": "657d4ae4",
   "metadata": {
    "execution": {
     "iopub.execute_input": "2023-08-18T07:05:48.589268Z",
     "iopub.status.busy": "2023-08-18T07:05:48.588385Z",
     "iopub.status.idle": "2023-08-18T07:05:48.631624Z",
     "shell.execute_reply": "2023-08-18T07:05:48.630676Z"
    },
    "origin_pos": 11,
    "tab": [
     "pytorch"
    ]
   },
   "outputs": [
    {
     "name": "stderr",
     "output_type": "stream",
     "text": [
      "/Users/yangjing/miniconda3/envs/d2l/lib/python3.9/site-packages/torch/nn/modules/lazy.py:180: UserWarning: Lazy modules are a new feature under heavy development so changes to the API or functionality can happen at any moment.\n",
      "  warnings.warn('Lazy modules are a new feature under heavy development '\n"
     ]
    },
    {
     "data": {
      "text/plain": [
       "torch.Size([2, 1])"
      ]
     },
     "execution_count": 2,
     "metadata": {},
     "output_type": "execute_result"
    }
   ],
   "source": [
    "net = nn.Sequential(nn.LazyLinear(8), nn.ReLU(), nn.LazyLinear(1))\n",
    "X = torch.rand(size=(2, 4))\n",
    "net(X).shape"
   ]
  },
  {
   "cell_type": "markdown",
   "id": "2ca8b4aa",
   "metadata": {
    "origin_pos": 14
   },
   "source": [
    "## [**Built-in Initialization**]\n",
    "\n",
    "Let's begin by calling on built-in initializers.\n",
    "The code below initializes all weight parameters\n",
    "as Gaussian random variables\n",
    "with standard deviation 0.01, while bias parameters are cleared to zero.\n"
   ]
  },
  {
   "cell_type": "code",
   "execution_count": 3,
   "id": "027c1456",
   "metadata": {
    "execution": {
     "iopub.execute_input": "2023-08-18T07:05:48.635847Z",
     "iopub.status.busy": "2023-08-18T07:05:48.635128Z",
     "iopub.status.idle": "2023-08-18T07:05:48.646927Z",
     "shell.execute_reply": "2023-08-18T07:05:48.645874Z"
    },
    "origin_pos": 16,
    "tab": [
     "pytorch"
    ]
   },
   "outputs": [
    {
     "data": {
      "text/plain": [
       "(tensor([-0.0010,  0.0022,  0.0094,  0.0065]), tensor(0.))"
      ]
     },
     "execution_count": 3,
     "metadata": {},
     "output_type": "execute_result"
    }
   ],
   "source": [
    "def init_normal(module):\n",
    "    if type(module) == nn.Linear:\n",
    "        nn.init.normal_(module.weight, mean=0, std=0.01)\n",
    "        nn.init.zeros_(module.bias)\n",
    "\n",
    "\n",
    "net.apply(init_normal)\n",
    "net[0].weight.data[0], net[0].bias.data[0]"
   ]
  },
  {
   "cell_type": "markdown",
   "id": "a0ce96f0",
   "metadata": {
    "origin_pos": 19
   },
   "source": [
    "We can also initialize all the parameters\n",
    "to a given constant value (say, 1).\n"
   ]
  },
  {
   "cell_type": "code",
   "execution_count": 4,
   "id": "63e54a2a",
   "metadata": {
    "execution": {
     "iopub.execute_input": "2023-08-18T07:05:48.650790Z",
     "iopub.status.busy": "2023-08-18T07:05:48.650229Z",
     "iopub.status.idle": "2023-08-18T07:05:48.657915Z",
     "shell.execute_reply": "2023-08-18T07:05:48.656854Z"
    },
    "origin_pos": 21,
    "tab": [
     "pytorch"
    ]
   },
   "outputs": [
    {
     "data": {
      "text/plain": [
       "(tensor([1., 1., 1., 1.]), tensor(0.))"
      ]
     },
     "execution_count": 4,
     "metadata": {},
     "output_type": "execute_result"
    }
   ],
   "source": [
    "def init_constant(module):\n",
    "    if type(module) == nn.Linear:\n",
    "        nn.init.constant_(module.weight, 1)\n",
    "        nn.init.zeros_(module.bias)\n",
    "\n",
    "\n",
    "net.apply(init_constant)\n",
    "net[0].weight.data[0], net[0].bias.data[0]"
   ]
  },
  {
   "cell_type": "markdown",
   "id": "0b3630fb",
   "metadata": {
    "origin_pos": 24
   },
   "source": [
    "[**We can also apply different initializers for certain blocks.**]\n",
    "For example, below we initialize the first layer\n",
    "with the Xavier initializer\n",
    "and initialize the second layer\n",
    "to a constant value of 42.\n"
   ]
  },
  {
   "cell_type": "code",
   "execution_count": 5,
   "id": "bb699161",
   "metadata": {
    "execution": {
     "iopub.execute_input": "2023-08-18T07:05:48.662232Z",
     "iopub.status.busy": "2023-08-18T07:05:48.661429Z",
     "iopub.status.idle": "2023-08-18T07:05:48.670961Z",
     "shell.execute_reply": "2023-08-18T07:05:48.669957Z"
    },
    "origin_pos": 26,
    "tab": [
     "pytorch"
    ]
   },
   "outputs": [
    {
     "name": "stdout",
     "output_type": "stream",
     "text": [
      "tensor([-0.6217, -0.3754,  0.5403, -0.0517])\n",
      "tensor([[42., 42., 42., 42., 42., 42., 42., 42.]])\n"
     ]
    }
   ],
   "source": [
    "def init_xavier(module):\n",
    "    if type(module) == nn.Linear:\n",
    "        nn.init.xavier_uniform_(module.weight)\n",
    "\n",
    "\n",
    "def init_42(module):\n",
    "    if type(module) == nn.Linear:\n",
    "        nn.init.constant_(module.weight, 42)\n",
    "\n",
    "\n",
    "net[0].apply(init_xavier)\n",
    "net[2].apply(init_42)\n",
    "print(net[0].weight.data[0])\n",
    "print(net[2].weight.data)"
   ]
  },
  {
   "cell_type": "markdown",
   "id": "0091838d",
   "metadata": {
    "origin_pos": 29
   },
   "source": [
    "### [**Custom Initialization**]\n",
    "\n",
    "Sometimes, the initialization methods we need\n",
    "are not provided by the deep learning framework.\n",
    "In the example below, we define an initializer\n",
    "for any weight parameter $w$ using the following strange distribution:\n",
    "\n",
    "$$\n",
    "\\begin{aligned}\n",
    "    w \\sim \\begin{cases}\n",
    "        U(5, 10) & \\textrm{ with probability } \\frac{1}{4} \\\\\n",
    "            0    & \\textrm{ with probability } \\frac{1}{2} \\\\\n",
    "        U(-10, -5) & \\textrm{ with probability } \\frac{1}{4}\n",
    "    \\end{cases}\n",
    "\\end{aligned}\n",
    "$$\n"
   ]
  },
  {
   "cell_type": "markdown",
   "id": "2a2629f1",
   "metadata": {
    "origin_pos": 31,
    "tab": [
     "pytorch"
    ]
   },
   "source": [
    "Again, we implement a `my_init` function to apply to `net`.\n"
   ]
  },
  {
   "cell_type": "code",
   "execution_count": 6,
   "id": "0896a45c",
   "metadata": {
    "execution": {
     "iopub.execute_input": "2023-08-18T07:05:48.675035Z",
     "iopub.status.busy": "2023-08-18T07:05:48.674209Z",
     "iopub.status.idle": "2023-08-18T07:05:48.683140Z",
     "shell.execute_reply": "2023-08-18T07:05:48.682179Z"
    },
    "origin_pos": 35,
    "tab": [
     "pytorch"
    ]
   },
   "outputs": [
    {
     "name": "stdout",
     "output_type": "stream",
     "text": [
      "Init weight torch.Size([8, 4])\n",
      "Init weight torch.Size([1, 8])\n"
     ]
    },
    {
     "data": {
      "text/plain": [
       "tensor([[ 0.0000,  5.0094, -8.3020, -8.4595],\n",
       "        [-0.0000, -6.2577,  5.6006,  0.0000]], grad_fn=<SliceBackward0>)"
      ]
     },
     "execution_count": 6,
     "metadata": {},
     "output_type": "execute_result"
    }
   ],
   "source": [
    "def my_init(module):\n",
    "    if type(module) == nn.Linear:\n",
    "        print(\n",
    "            \"Init\",\n",
    "            *[(name, param.shape) for name, param in module.named_parameters()][0],\n",
    "        )\n",
    "        nn.init.uniform_(module.weight, -10, 10)\n",
    "        module.weight.data *= module.weight.data.abs() >= 5\n",
    "\n",
    "\n",
    "net.apply(my_init)\n",
    "net[0].weight[:2]"
   ]
  },
  {
   "cell_type": "markdown",
   "id": "398c7259",
   "metadata": {
    "origin_pos": 38,
    "tab": [
     "pytorch"
    ]
   },
   "source": [
    "Note that we always have the option\n",
    "of setting parameters directly.\n"
   ]
  },
  {
   "cell_type": "code",
   "execution_count": 7,
   "id": "a8ba0fc5",
   "metadata": {
    "execution": {
     "iopub.execute_input": "2023-08-18T07:05:48.687192Z",
     "iopub.status.busy": "2023-08-18T07:05:48.686477Z",
     "iopub.status.idle": "2023-08-18T07:05:48.694960Z",
     "shell.execute_reply": "2023-08-18T07:05:48.694024Z"
    },
    "origin_pos": 41,
    "tab": [
     "pytorch"
    ]
   },
   "outputs": [
    {
     "data": {
      "text/plain": [
       "tensor([42.0000,  6.0094, -7.3020, -7.4595])"
      ]
     },
     "execution_count": 7,
     "metadata": {},
     "output_type": "execute_result"
    }
   ],
   "source": [
    "net[0].weight.data[:] += 1\n",
    "net[0].weight.data[0, 0] = 42\n",
    "net[0].weight.data[0]"
   ]
  },
  {
   "cell_type": "markdown",
   "id": "62582a0b",
   "metadata": {
    "origin_pos": 43
   },
   "source": [
    "## Summary\n",
    "\n",
    "We can initialize parameters using built-in and custom initializers.\n",
    "\n",
    "## Exercises\n",
    "\n",
    "Look up the online documentation for more built-in initializers.\n"
   ]
  },
  {
   "cell_type": "markdown",
   "id": "6cecd2a8",
   "metadata": {
    "origin_pos": 45,
    "tab": [
     "pytorch"
    ]
   },
   "source": [
    "[Discussions](https://discuss.d2l.ai/t/8090)\n"
   ]
  }
 ],
 "metadata": {
  "kernelspec": {
   "display_name": "d2l",
   "language": "python",
   "name": "python3"
  },
  "language_info": {
   "codemirror_mode": {
    "name": "ipython",
    "version": 3
   },
   "file_extension": ".py",
   "mimetype": "text/x-python",
   "name": "python",
   "nbconvert_exporter": "python",
   "pygments_lexer": "ipython3",
   "version": "3.9.21"
  },
  "required_libs": []
 },
 "nbformat": 4,
 "nbformat_minor": 5
}
